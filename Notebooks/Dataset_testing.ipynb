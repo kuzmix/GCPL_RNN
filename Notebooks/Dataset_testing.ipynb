{
 "cells": [
  {
   "cell_type": "code",
   "execution_count": null,
   "outputs": [],
   "source": [
    "\"\"\"For google colab workflow - mounts Google Drive and go to it\"\"\"\n",
    "import os\n",
    "from google.colab import drive\n",
    "drive.mount('/content/gdrive')\n",
    "os.chdir('./gdrive/MyDrive/Projects/RNN_for_GCPL/Notebooks')"
   ],
   "metadata": {
    "collapsed": false
   }
  },
  {
   "cell_type": "code",
   "execution_count": null,
   "outputs": [],
   "source": [
    "\"\"\"Imports all necessary libs\"\"\"\n",
    "import numpy as np\n",
    "import pandas as pd\n",
    "import matplotlib.pyplot as plt\n",
    "import torch\n",
    "import sklearn\n",
    "from Code.setup import *\n",
    "import datetime as dt\n",
    "import torch.nn as nn\n",
    "import copy\n",
    "from sklearn.model_selection import KFold\n",
    "from sklearn.model_selection import GroupKFold\n",
    "from RNN_for_GCPL import setup\n",
    "\n",
    "\n",
    "seedEverything(seed=DEFAULT_RANDOM_SEED)\n",
    "device = torch.device(\"cuda\" if torch.cuda.is_available() else \"cpu\")"
   ],
   "metadata": {
    "collapsed": false
   }
  },
  {
   "cell_type": "code",
   "execution_count": null,
   "outputs": [],
   "source": [
    "\"\"\"For compatibility - cd to folder with data and models\"\"\"\n",
    "os.chdir('../../RNN_for_GCPL/')"
   ],
   "metadata": {
    "collapsed": false
   }
  },
  {
   "cell_type": "code",
   "execution_count": null,
   "outputs": [],
   "source": [
    "\"\"\"Dataset consists of \"main\" an \"validate\" parts \"\"\"\n",
    "sampling = [30, 60, 120, 180, 300]\n",
    "sampling_size = 30\n",
    "dataset_path = os.path.normpath(fr'./data/v4/{sampling_size}/')\n",
    "\n",
    "dataset_main_path = os.path.join(dataset_path, 'main')\n",
    "dataset_val_path = os.path.join(dataset_path, 'validate')\n",
    "\n",
    "dataset_main = GCPL_dataset_resampled3(dataset_main_path)\n",
    "dataset_val = GCPL_dataset_resampled3(dataset_val_path)\n",
    "dataset_full = dataset_main + dataset_val"
   ],
   "metadata": {
    "collapsed": false
   }
  },
  {
   "cell_type": "code",
   "execution_count": null,
   "outputs": [],
   "source": [
    "probs = balancing(dataset_full, 3)\n",
    "soh, info = statistics(dataset_full)"
   ],
   "metadata": {
    "collapsed": false
   }
  },
  {
   "cell_type": "code",
   "execution_count": null,
   "outputs": [],
   "source": [
    "plt.rcParams['figure.figsize'] = [15, 15]"
   ],
   "metadata": {
    "collapsed": false
   }
  },
  {
   "cell_type": "code",
   "execution_count": null,
   "outputs": [],
   "source": [
    "random_cycles = torch.randint(len(dataset_full), (10,))\n",
    "# cycles = iter(range(len(dataset_main)))\n",
    "for cycle_number in random_cycles:\n",
    "    cycle = dataset_full[cycle_number]\n",
    "    plt.figure(1)\n",
    "    plt.plot(cycle['E'], linewidth = 0, marker = 'o', markersize =2, label= f\"{cycle['Pouch']} {int(cycle_number)} E {cycle['SoH']*50+50:.1f}\")\n",
    "    plt.legend()\n",
    "    # plt.figure(2)\n",
    "    # plt.plot(cycle['I'], linewidth = 0, marker = 'o', markersize =1, label= f\"{cycle['Pouch']} {int(cycle_number)} I {cycle['SoH']*50+50:.1f}\")"
   ],
   "metadata": {
    "collapsed": false
   }
  },
  {
   "cell_type": "code",
   "execution_count": null,
   "outputs": [],
   "source": [
    "plt.plot(dataset_main[17157]['Q'], label= f\"{dataset_main[17157]['Pouch']} {int(17157)} I {dataset_main[17157]['SoH']*50+50:.1f}\")\n",
    "plt.legend()"
   ],
   "metadata": {
    "collapsed": false
   }
  },
  {
   "cell_type": "code",
   "execution_count": null,
   "outputs": [],
   "source": [
    "for key, grp in info.groupby('Pouch'):\n",
    "    plt.plot(range(len(grp)) ,grp['SoH'], label=key)\n",
    "plt.legend()\n",
    "#TODO поменять в датасете местами некоторые файлы, чтобы SoH падало синхронно\n"
   ],
   "metadata": {
    "collapsed": false
   }
  },
  {
   "cell_type": "code",
   "execution_count": null,
   "outputs": [],
   "source": [
    "dataset_main"
   ],
   "metadata": {
    "collapsed": false
   }
  }
 ],
 "metadata": {
  "kernelspec": {
   "display_name": "Python 3",
   "language": "python",
   "name": "python3"
  },
  "language_info": {
   "codemirror_mode": {
    "name": "ipython",
    "version": 2
   },
   "file_extension": ".py",
   "mimetype": "text/x-python",
   "name": "python",
   "nbconvert_exporter": "python",
   "pygments_lexer": "ipython2",
   "version": "2.7.6"
  }
 },
 "nbformat": 4,
 "nbformat_minor": 0
}

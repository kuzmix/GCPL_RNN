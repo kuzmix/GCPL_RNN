{
 "cells": [
  {
   "cell_type": "code",
   "execution_count": 1,
   "outputs": [],
   "source": [
    "\"\"\"Imports all necessary libs\"\"\"\n",
    "import numpy as np\n",
    "import pandas as pd\n",
    "import matplotlib.pyplot as plt\n",
    "import torch\n",
    "import sklearn\n",
    "from Code.setup import *\n",
    "import datetime as dt\n",
    "import torch.nn as nn\n",
    "import copy\n",
    "from sklearn.model_selection import KFold\n",
    "from sklearn.model_selection import GroupKFold\n",
    "from RNN_for_GCPL import setup\n",
    "\n",
    "\n",
    "seedEverything(seed=DEFAULT_RANDOM_SEED)\n",
    "device = torch.device(\"cuda\" if torch.cuda.is_available() else \"cpu\")"
   ],
   "metadata": {
    "collapsed": false,
    "ExecuteTime": {
     "end_time": "2023-06-14T12:13:37.034680300Z",
     "start_time": "2023-06-14T12:13:26.867450700Z"
    }
   }
  },
  {
   "cell_type": "code",
   "execution_count": 2,
   "outputs": [],
   "source": [
    "\"\"\"For compatibility - cd to folder with data and models\"\"\"\n",
    "os.chdir('../../RNN_for_GCPL/')"
   ],
   "metadata": {
    "collapsed": false,
    "ExecuteTime": {
     "end_time": "2023-06-14T12:13:54.403616700Z",
     "start_time": "2023-06-14T12:13:54.262190700Z"
    }
   }
  },
  {
   "cell_type": "code",
   "execution_count": 4,
   "outputs": [
    {
     "name": "stderr",
     "output_type": "stream",
     "text": [
      "100%|██████████| 5/5 [29:44<00:00, 356.94s/it]\n"
     ]
    }
   ],
   "source": [
    "dataset_path_cleaned = r'D:\\Python\\Projects\\RNN_for_GCPL\\data\\cleaned'\n",
    "datalist = make_datalist(dataset_path_cleaned)\n",
    "dataset = GCPL_dataset(datalist)\n",
    "sampling = [30, 60, 120, 180, 300]\n",
    "dataset_version = 5\n",
    "for i in tqdm(sampling):\n",
    "    Preparator = GCPL_Preparator(timedelta_seconds = i)\n",
    "    Dataset_prepared = GCPL_dataset_preparator(dataset, Preparator, f'data/v{dataset_version}/{i}')"
   ],
   "metadata": {
    "collapsed": false,
    "ExecuteTime": {
     "end_time": "2023-06-14T12:53:46.939942900Z",
     "start_time": "2023-06-14T12:24:02.199153600Z"
    }
   }
  },
  {
   "cell_type": "code",
   "execution_count": null,
   "outputs": [],
   "source": [
    "sampling_size = 30\n",
    "dataset_path = os.path.normpath(fr'./data/v5/{sampling_size}/')\n",
    "dataset_full = GCPL_dataset_resampled3(dataset_path)"
   ],
   "metadata": {
    "collapsed": false
   }
  }
 ],
 "metadata": {
  "kernelspec": {
   "display_name": "Python 3",
   "language": "python",
   "name": "python3"
  },
  "language_info": {
   "codemirror_mode": {
    "name": "ipython",
    "version": 2
   },
   "file_extension": ".py",
   "mimetype": "text/x-python",
   "name": "python",
   "nbconvert_exporter": "python",
   "pygments_lexer": "ipython2",
   "version": "2.7.6"
  }
 },
 "nbformat": 4,
 "nbformat_minor": 0
}
